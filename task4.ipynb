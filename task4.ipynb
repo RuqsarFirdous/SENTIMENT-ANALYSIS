{
  "nbformat": 4,
  "nbformat_minor": 0,
  "metadata": {
    "colab": {
      "provenance": [],
      "authorship_tag": "ABX9TyMFvFJ1OBh4z5HCMWylQdBH",
      "include_colab_link": true
    },
    "kernelspec": {
      "name": "python3",
      "display_name": "Python 3"
    },
    "language_info": {
      "name": "python"
    }
  },
  "cells": [
    {
      "cell_type": "markdown",
      "metadata": {
        "id": "view-in-github",
        "colab_type": "text"
      },
      "source": [
        "<a href=\"https://colab.research.google.com/github/RuqsarFirdous/SENTIMENT-ANALYSIS/blob/main/task4.ipynb\" target=\"_parent\"><img src=\"https://colab.research.google.com/assets/colab-badge.svg\" alt=\"Open In Colab\"/></a>"
      ]
    },
    {
      "cell_type": "markdown",
      "source": [
        " SENTIMENT ANALYSIS — STEPS\n",
        "\n",
        "1️⃣ Download & Load Data\n",
        "\n",
        "2️⃣ Clean the Data\n",
        "\n",
        "3️⃣ Create Sentiment Labels\n",
        "\n",
        "4️⃣ Preprocess Text\n",
        "\n",
        "5️⃣ Vectorize Text\n",
        "\n",
        "6️⃣ Split Data (Train/Test)\n",
        "\n",
        "7️⃣ Train Model\n",
        "\n",
        "8️⃣ Evaluate Model\n",
        "\n",
        "9️⃣ Make Predictions\n",
        "\n",
        "🔟 Export Final Data\n",
        "\n",
        "✅ Write Conclusion"
      ],
      "metadata": {
        "id": "dK7ueZ-jJmNV"
      }
    },
    {
      "cell_type": "markdown",
      "source": [
        "### 1️⃣ Download & Load Data"
      ],
      "metadata": {
        "id": "UflWrK5MJ2Ya"
      }
    },
    {
      "cell_type": "code",
      "execution_count": 1,
      "metadata": {
        "colab": {
          "base_uri": "https://localhost:8080/"
        },
        "id": "9JAl_HlSCY5O",
        "outputId": "fe7b5c17-1e7d-49a8-f1d2-3e84047dc200"
      },
      "outputs": [
        {
          "output_type": "stream",
          "name": "stdout",
          "text": [
            "      App          review_date  \\\n",
            "0  Zomato  2023-07-23 15:52:11   \n",
            "1  Zomato  2023-07-08 04:32:18   \n",
            "2  Zomato  2023-07-24 21:14:56   \n",
            "3  Zomato  2023-07-24 17:07:55   \n",
            "4  Zomato  2023-07-22 13:28:26   \n",
            "\n",
            "                                  review_description  rating  thumbsUpCount  \\\n",
            "0  So basically , it's the best approach you'll e...       5             99   \n",
            "1  Always Late Delivery. No change. Late delivery...       1            416   \n",
            "2  This app is froude with their zomato gold, i h...       1              1   \n",
            "3  I tried 100 times adding an alternate number i...       1              1   \n",
            "4  In recent years, Zomato support has become les...       1             30   \n",
            "\n",
            "                                  developer_response developer_response_date  \\\n",
            "0                                                NaN                     NaN   \n",
            "1  Hi Magesh, sorry to hear about that. Please wr...     2023-07-08 11:35:20   \n",
            "2  Hi there, we are really sorry for the bad expe...     2023-07-24 21:15:52   \n",
            "3  Hi there, we are really sorry for the bad expe...     2023-07-24 17:09:50   \n",
            "4  Hi Shaik, we're sorry to hear that. We are con...     2023-07-23 10:29:50   \n",
            "\n",
            "  appVersion  \n",
            "0     17.6.0  \n",
            "1     17.5.8  \n",
            "2     17.6.2  \n",
            "3     17.6.2  \n",
            "4     17.6.2  \n",
            "      App          review_date  \\\n",
            "0  Swiggy  2023-07-24 09:57:40   \n",
            "1  Swiggy  2023-07-23 10:35:23   \n",
            "2  Swiggy  2023-07-24 14:48:26   \n",
            "3  Swiggy  2023-07-07 08:26:00   \n",
            "4  Swiggy  2023-07-19 07:40:05   \n",
            "\n",
            "                                  review_description  rating  thumbsUpCount  \\\n",
            "0  I have been using swiggy for a long time and I...       2            103   \n",
            "1  Worst experiences I'm having with the app for ...       1             12   \n",
            "2  The best foolishing app with offers. The app o...       1              7   \n",
            "3  Title: Disappointing Experience with Swiggy In...       1             85   \n",
            "4  Worst ever experience. I ordered from instamar...       1             29   \n",
            "\n",
            "                                  developer_response developer_response_date  \\\n",
            "0  Hey there, we apologize for the inconvenience ...     2023-07-24 10:02:21   \n",
            "1  Hello, we would like to know more about it. Pl...     2023-07-23 10:42:22   \n",
            "2  We are sorry to let you down. Please write to ...     2023-07-24 14:52:22   \n",
            "3  Hey there, we are sorry to have put you throug...     2023-07-07 08:32:20   \n",
            "4  We're apologetic about this experience you've ...     2023-07-19 07:42:22   \n",
            "\n",
            "  appVersion  \n",
            "0     4.37.2  \n",
            "1     4.37.2  \n",
            "2     4.37.2  \n",
            "3     4.36.1  \n",
            "4     4.36.3  \n"
          ]
        }
      ],
      "source": [
        "import pandas as pd\n",
        "\n",
        "# Load Zomato file\n",
        "zomato_df = pd.read_csv('zomato.csv')\n",
        "\n",
        "# Load Swiggy file\n",
        "swiggy_df = pd.read_csv('swiggy.csv')\n",
        "\n",
        "# Peek at both\n",
        "print(zomato_df.head())\n",
        "print(swiggy_df.head())"
      ]
    },
    {
      "cell_type": "code",
      "source": [
        "# Add App name to each\n",
        "zomato_df['App'] = 'Zomato'\n",
        "swiggy_df['App'] = 'Swiggy'"
      ],
      "metadata": {
        "id": "jd_fsswIDTbT"
      },
      "execution_count": 2,
      "outputs": []
    },
    {
      "cell_type": "code",
      "source": [
        "# Combine\n",
        "df = pd.concat([zomato_df, swiggy_df], ignore_index=True)"
      ],
      "metadata": {
        "id": "wxbwus-eEXD9"
      },
      "execution_count": 3,
      "outputs": []
    },
    {
      "cell_type": "code",
      "source": [
        "# Check result\n",
        "print(df.head())\n",
        "print(df['App'].value_counts())"
      ],
      "metadata": {
        "colab": {
          "base_uri": "https://localhost:8080/"
        },
        "id": "fwVQb77LEe5s",
        "outputId": "a0ce98f5-8b71-4991-f7ca-de2b0a0a5088"
      },
      "execution_count": 4,
      "outputs": [
        {
          "output_type": "stream",
          "name": "stdout",
          "text": [
            "      App          review_date  \\\n",
            "0  Zomato  2023-07-23 15:52:11   \n",
            "1  Zomato  2023-07-08 04:32:18   \n",
            "2  Zomato  2023-07-24 21:14:56   \n",
            "3  Zomato  2023-07-24 17:07:55   \n",
            "4  Zomato  2023-07-22 13:28:26   \n",
            "\n",
            "                                  review_description  rating  thumbsUpCount  \\\n",
            "0  So basically , it's the best approach you'll e...       5             99   \n",
            "1  Always Late Delivery. No change. Late delivery...       1            416   \n",
            "2  This app is froude with their zomato gold, i h...       1              1   \n",
            "3  I tried 100 times adding an alternate number i...       1              1   \n",
            "4  In recent years, Zomato support has become les...       1             30   \n",
            "\n",
            "                                  developer_response developer_response_date  \\\n",
            "0                                                NaN                     NaN   \n",
            "1  Hi Magesh, sorry to hear about that. Please wr...     2023-07-08 11:35:20   \n",
            "2  Hi there, we are really sorry for the bad expe...     2023-07-24 21:15:52   \n",
            "3  Hi there, we are really sorry for the bad expe...     2023-07-24 17:09:50   \n",
            "4  Hi Shaik, we're sorry to hear that. We are con...     2023-07-23 10:29:50   \n",
            "\n",
            "  appVersion  \n",
            "0     17.6.0  \n",
            "1     17.5.8  \n",
            "2     17.6.2  \n",
            "3     17.6.2  \n",
            "4     17.6.2  \n",
            "App\n",
            "Zomato    264869\n",
            "Swiggy    200791\n",
            "Name: count, dtype: int64\n"
          ]
        }
      ]
    },
    {
      "cell_type": "markdown",
      "source": [
        "### 2️⃣ Clean the Data\n",
        "\n"
      ],
      "metadata": {
        "id": "irT7xQnPE5m8"
      }
    },
    {
      "cell_type": "code",
      "source": [
        "print(df.isnull().sum())"
      ],
      "metadata": {
        "colab": {
          "base_uri": "https://localhost:8080/"
        },
        "id": "YixPbWJ0Eh94",
        "outputId": "4ded0fc6-4ee2-4936-ac6b-3b2e79815a13"
      },
      "execution_count": 5,
      "outputs": [
        {
          "output_type": "stream",
          "name": "stdout",
          "text": [
            "App                             0\n",
            "review_date                     0\n",
            "review_description              0\n",
            "rating                          0\n",
            "thumbsUpCount                   0\n",
            "developer_response         169264\n",
            "developer_response_date    169264\n",
            "appVersion                  62207\n",
            "dtype: int64\n"
          ]
        }
      ]
    },
    {
      "cell_type": "code",
      "source": [
        "# Fill missing developer responses\n",
        "df['developer_response'] = df['developer_response'].fillna('No Response')\n",
        "\n",
        "# Fill missing developer response dates\n",
        "df['developer_response_date'] = df['developer_response_date'].fillna('No Response Date')\n",
        "\n",
        "# Fill missing app versions\n",
        "df['appVersion'] = df['appVersion'].fillna('Unknown Version')\n",
        "\n",
        "# Check again\n",
        "print(df.isnull().sum())\n"
      ],
      "metadata": {
        "colab": {
          "base_uri": "https://localhost:8080/"
        },
        "id": "aga5XFfuE_5X",
        "outputId": "4fa6d306-dfff-4c6c-e38d-e2c67c31cf54"
      },
      "execution_count": 6,
      "outputs": [
        {
          "output_type": "stream",
          "name": "stdout",
          "text": [
            "App                        0\n",
            "review_date                0\n",
            "review_description         0\n",
            "rating                     0\n",
            "thumbsUpCount              0\n",
            "developer_response         0\n",
            "developer_response_date    0\n",
            "appVersion                 0\n",
            "dtype: int64\n"
          ]
        }
      ]
    },
    {
      "cell_type": "markdown",
      "source": [
        "### Data Cleaning (Quick Note)\n",
        "\n",
        "I checked for missing values.\n",
        "\n",
        "I filled empty developer_response, developer_response_date, and appVersion with clear text like “No Response” and “Unknown Version” so there are no blanks.\n",
        "\n",
        "Now the data is ready for clean analysis and dashboards!"
      ],
      "metadata": {
        "id": "fM_N77oeIe1p"
      }
    },
    {
      "cell_type": "code",
      "source": [
        "# Remove duplicate reviews based on the text\n",
        "df = df.drop_duplicates(subset=['review_description'])\n",
        "\n",
        "# Reset index for clean dataframe\n",
        "df = df.reset_index(drop=True)\n",
        "\n",
        "# Check new shape\n",
        "print(df.shape)\n"
      ],
      "metadata": {
        "colab": {
          "base_uri": "https://localhost:8080/"
        },
        "id": "FAy9c8lyHpre",
        "outputId": "7e841768-e252-44ab-cb04-86cd4ae3580e"
      },
      "execution_count": 7,
      "outputs": [
        {
          "output_type": "stream",
          "name": "stdout",
          "text": [
            "(453205, 8)\n"
          ]
        }
      ]
    },
    {
      "cell_type": "code",
      "source": [
        "# Basic info\n",
        "print(df.info())\n",
        "\n",
        "# See some rows\n",
        "print(df.head())\n"
      ],
      "metadata": {
        "colab": {
          "base_uri": "https://localhost:8080/"
        },
        "id": "7Hc2jRPaIwNT",
        "outputId": "80525446-727e-4f86-a0d4-f92bc732e196"
      },
      "execution_count": 8,
      "outputs": [
        {
          "output_type": "stream",
          "name": "stdout",
          "text": [
            "<class 'pandas.core.frame.DataFrame'>\n",
            "RangeIndex: 453205 entries, 0 to 453204\n",
            "Data columns (total 8 columns):\n",
            " #   Column                   Non-Null Count   Dtype \n",
            "---  ------                   --------------   ----- \n",
            " 0   App                      453205 non-null  object\n",
            " 1   review_date              453205 non-null  object\n",
            " 2   review_description       453205 non-null  object\n",
            " 3   rating                   453205 non-null  int64 \n",
            " 4   thumbsUpCount            453205 non-null  int64 \n",
            " 5   developer_response       453205 non-null  object\n",
            " 6   developer_response_date  453205 non-null  object\n",
            " 7   appVersion               453205 non-null  object\n",
            "dtypes: int64(2), object(6)\n",
            "memory usage: 27.7+ MB\n",
            "None\n",
            "      App          review_date  \\\n",
            "0  Zomato  2023-07-23 15:52:11   \n",
            "1  Zomato  2023-07-08 04:32:18   \n",
            "2  Zomato  2023-07-24 21:14:56   \n",
            "3  Zomato  2023-07-24 17:07:55   \n",
            "4  Zomato  2023-07-22 13:28:26   \n",
            "\n",
            "                                  review_description  rating  thumbsUpCount  \\\n",
            "0  So basically , it's the best approach you'll e...       5             99   \n",
            "1  Always Late Delivery. No change. Late delivery...       1            416   \n",
            "2  This app is froude with their zomato gold, i h...       1              1   \n",
            "3  I tried 100 times adding an alternate number i...       1              1   \n",
            "4  In recent years, Zomato support has become les...       1             30   \n",
            "\n",
            "                                  developer_response developer_response_date  \\\n",
            "0                                        No Response        No Response Date   \n",
            "1  Hi Magesh, sorry to hear about that. Please wr...     2023-07-08 11:35:20   \n",
            "2  Hi there, we are really sorry for the bad expe...     2023-07-24 21:15:52   \n",
            "3  Hi there, we are really sorry for the bad expe...     2023-07-24 17:09:50   \n",
            "4  Hi Shaik, we're sorry to hear that. We are con...     2023-07-23 10:29:50   \n",
            "\n",
            "  appVersion  \n",
            "0     17.6.0  \n",
            "1     17.5.8  \n",
            "2     17.6.2  \n",
            "3     17.6.2  \n",
            "4     17.6.2  \n"
          ]
        }
      ]
    },
    {
      "cell_type": "code",
      "source": [
        "print(df['rating'].value_counts())\n"
      ],
      "metadata": {
        "colab": {
          "base_uri": "https://localhost:8080/"
        },
        "id": "BcfTpyYfJLub",
        "outputId": "c5bc9b02-2a5d-4fb3-ef3c-c1b2cbdaa2e8"
      },
      "execution_count": 9,
      "outputs": [
        {
          "output_type": "stream",
          "name": "stdout",
          "text": [
            "rating\n",
            "1    213911\n",
            "5    157300\n",
            "4     42447\n",
            "3     19932\n",
            "2     19615\n",
            "Name: count, dtype: int64\n"
          ]
        }
      ]
    },
    {
      "cell_type": "code",
      "source": [
        "print(df['thumbsUpCount'].describe())\n"
      ],
      "metadata": {
        "colab": {
          "base_uri": "https://localhost:8080/"
        },
        "id": "Wuhiu_ERJUdC",
        "outputId": "0817e875-06f3-47ae-8c57-a771323f6a2b"
      },
      "execution_count": 10,
      "outputs": [
        {
          "output_type": "stream",
          "name": "stdout",
          "text": [
            "count    453205.000000\n",
            "mean          1.935506\n",
            "std          47.114478\n",
            "min           0.000000\n",
            "25%           0.000000\n",
            "50%           0.000000\n",
            "75%           0.000000\n",
            "max       10628.000000\n",
            "Name: thumbsUpCount, dtype: float64\n"
          ]
        }
      ]
    },
    {
      "cell_type": "markdown",
      "source": [
        "### 3️⃣ Create Sentiment Labels"
      ],
      "metadata": {
        "id": "MFWrT5BEKP3X"
      }
    },
    {
      "cell_type": "code",
      "source": [
        "# Create sentiment column\n",
        "def get_sentiment(rating):\n",
        "    if rating >= 4:\n",
        "        return 'Positive'\n",
        "    elif rating == 3:\n",
        "        return 'Neutral'\n",
        "    else:\n",
        "        return 'Negative'\n",
        "\n",
        "df['sentiment'] = df['rating'].apply(get_sentiment)\n",
        "\n",
        "# Check counts\n",
        "print(df['sentiment'].value_counts())\n"
      ],
      "metadata": {
        "colab": {
          "base_uri": "https://localhost:8080/"
        },
        "id": "O_PPjq3mJYFG",
        "outputId": "78d3a9f6-6a40-484f-e05d-d6c5ebf0cb6a"
      },
      "execution_count": 11,
      "outputs": [
        {
          "output_type": "stream",
          "name": "stdout",
          "text": [
            "sentiment\n",
            "Negative    233526\n",
            "Positive    199747\n",
            "Neutral      19932\n",
            "Name: count, dtype: int64\n"
          ]
        }
      ]
    },
    {
      "cell_type": "markdown",
      "source": [
        "### Seeing sentiment distribution using EDA"
      ],
      "metadata": {
        "id": "rEGXe1q2KsIt"
      }
    },
    {
      "cell_type": "code",
      "source": [
        "import seaborn as sns\n",
        "import matplotlib.pyplot as plt\n",
        "\n",
        "# Sentiment count plot\n",
        "plt.figure(figsize=(6,4))\n",
        "sns.countplot(data=df, x='sentiment', palette='coolwarm')\n",
        "plt.title('Sentiment Distribution')\n",
        "plt.xlabel('Sentiment')\n",
        "plt.ylabel('Count')\n",
        "plt.show()\n"
      ],
      "metadata": {
        "colab": {
          "base_uri": "https://localhost:8080/",
          "height": 497
        },
        "id": "9e67x-wIKc8h",
        "outputId": "7d553667-d0c3-45f3-b3dc-c5196592fcf7"
      },
      "execution_count": 12,
      "outputs": [
        {
          "output_type": "stream",
          "name": "stderr",
          "text": [
            "/tmp/ipython-input-12-3851004244.py:6: FutureWarning: \n",
            "\n",
            "Passing `palette` without assigning `hue` is deprecated and will be removed in v0.14.0. Assign the `x` variable to `hue` and set `legend=False` for the same effect.\n",
            "\n",
            "  sns.countplot(data=df, x='sentiment', palette='coolwarm')\n"
          ]
        },
        {
          "output_type": "display_data",
          "data": {
            "text/plain": [
              "<Figure size 600x400 with 1 Axes>"
            ],
            "image/png": "[encoded data removed]"
          },
          "metadata": {}
        }
      ]
    },
    {
      "cell_type": "code",
      "source": [
        "# Average thumbs up by sentiment\n",
        "thumbs_up = df.groupby('sentiment')['thumbsUpCount'].mean().reset_index()\n",
        "print(thumbs_up)\n"
      ],
      "metadata": {
        "colab": {
          "base_uri": "https://localhost:8080/"
        },
        "id": "IqOkmQqEKxVK",
        "outputId": "96ba85cb-bd1a-43cd-d7fc-820e7ef2b693"
      },
      "execution_count": 13,
      "outputs": [
        {
          "output_type": "stream",
          "name": "stdout",
          "text": [
            "  sentiment  thumbsUpCount\n",
            "0  Negative       2.681402\n",
            "1   Neutral       2.177303\n",
            "2  Positive       1.039345\n"
          ]
        }
      ]
    },
    {
      "cell_type": "code",
      "source": [
        "plt.figure(figsize=(6,4))\n",
        "sns.boxplot(data=df, x='App', y='rating', palette='Set2')\n",
        "plt.title('Ratings Distribution by App')\n",
        "plt.show()\n"
      ],
      "metadata": {
        "colab": {
          "base_uri": "https://localhost:8080/",
          "height": 497
        },
        "id": "zomi2t1cK7il",
        "outputId": "79db4e33-7aca-428a-b45a-c83dbbe2e3fa"
      },
      "execution_count": 14,
      "outputs": [
        {
          "output_type": "stream",
          "name": "stderr",
          "text": [
            "/tmp/ipython-input-14-1592435439.py:2: FutureWarning: \n",
            "\n",
            "Passing `palette` without assigning `hue` is deprecated and will be removed in v0.14.0. Assign the `x` variable to `hue` and set `legend=False` for the same effect.\n",
            "\n",
            "  sns.boxplot(data=df, x='App', y='rating', palette='Set2')\n"
          ]
        },
        {
          "output_type": "display_data",
          "data": {
            "text/plain": [
              "<Figure size 600x400 with 1 Axes>"
            ],
            "image/png": "[encoded data removed]"
          },
          "metadata": {}
        }
      ]
    },
    {
      "cell_type": "code",
      "source": [
        "print(df['rating'].unique())"
      ],
      "metadata": {
        "colab": {
          "base_uri": "https://localhost:8080/"
        },
        "id": "pMpZ6keoLE--",
        "outputId": "8c18511d-7840-40e6-981b-dd7963502802"
      },
      "execution_count": 15,
      "outputs": [
        {
          "output_type": "stream",
          "name": "stdout",
          "text": [
            "[5 1 2 4 3]\n"
          ]
        }
      ]
    },
    {
      "cell_type": "markdown",
      "source": [
        "4️⃣ Preprocess Text\n"
      ],
      "metadata": {
        "id": "xXhadlzbOfWj"
      }
    },
    {
      "cell_type": "code",
      "source": [
        "print(df['review_description'].head(10))\n"
      ],
      "metadata": {
        "colab": {
          "base_uri": "https://localhost:8080/"
        },
        "id": "O-ltVIAtMR58",
        "outputId": "f6ac097f-0867-4508-a018-0501c660ab90"
      },
      "execution_count": 17,
      "outputs": [
        {
          "output_type": "stream",
          "name": "stdout",
          "text": [
            "0    So basically , it's the best approach you'll e...\n",
            "1    Always Late Delivery. No change. Late delivery...\n",
            "2    This app is froude with their zomato gold, i h...\n",
            "3    I tried 100 times adding an alternate number i...\n",
            "4    In recent years, Zomato support has become les...\n",
            "5    Awful customer service. Zomato does not have a...\n",
            "6    Worst when it comes to support from them in ca...\n",
            "7    Not at all recommended. I've been using this Z...\n",
            "8    A very good app for food delivery. Could do mo...\n",
            "9    I have had really mixed experience with zomato...\n",
            "Name: review_description, dtype: object\n"
          ]
        }
      ]
    },
    {
      "cell_type": "code",
      "source": [
        "import re\n",
        "import nltk\n",
        "nltk.download('stopwords')\n",
        "from nltk.corpus import stopwords"
      ],
      "metadata": {
        "colab": {
          "base_uri": "https://localhost:8080/"
        },
        "id": "DAahmJWYOljO",
        "outputId": "dd039663-56cf-4bee-b566-fb448ac4549d"
      },
      "execution_count": 18,
      "outputs": [
        {
          "output_type": "stream",
          "name": "stderr",
          "text": [
            "[nltk_data] Downloading package stopwords to /root/nltk_data...\n",
            "[nltk_data]   Unzipping corpora/stopwords.zip.\n"
          ]
        }
      ]
    },
    {
      "cell_type": "code",
      "source": [
        "# Get English stopwords\n",
        "stop_words = set(stopwords.words('english'))"
      ],
      "metadata": {
        "id": "rRrwV2UpPOwV"
      },
      "execution_count": 19,
      "outputs": []
    },
    {
      "cell_type": "markdown",
      "source": [
        "✅ Lowercase\n",
        "\n",
        "✅ Remove punctuation & numbers\n",
        "\n",
        "✅ Remove extra spaces\n",
        "\n",
        "✅ Remove stopwords (like “is”, “the”, “a”)"
      ],
      "metadata": {
        "id": "svlAczayPXXx"
      }
    },
    {
      "cell_type": "code",
      "source": [
        "def clean_text(text):\n",
        "    text = text.lower()  # lowercase\n",
        "    text = re.sub(r\"[^a-z\\s]\", \"\", text)  # keep only letters\n",
        "    text = re.sub(r'\\s+', ' ', text).strip()  # remove extra spaces\n",
        "    words = text.split()\n",
        "    words = [word for word in words if word not in stop_words]  # remove stopwords\n",
        "    return ' '.join(words)\n",
        "\n",
        "# Apply\n",
        "df['cleaned_review'] = df['review_description'].apply(clean_text)\n",
        "\n",
        "# See result\n",
        "print(df[['review_description', 'cleaned_review']].head(10))"
      ],
      "metadata": {
        "colab": {
          "base_uri": "https://localhost:8080/"
        },
        "id": "poJYFY7kPUAz",
        "outputId": "14c5d291-762c-4069-efb2-af25769efc18"
      },
      "execution_count": 20,
      "outputs": [
        {
          "output_type": "stream",
          "name": "stdout",
          "text": [
            "                                  review_description  \\\n",
            "0  So basically , it's the best approach you'll e...   \n",
            "1  Always Late Delivery. No change. Late delivery...   \n",
            "2  This app is froude with their zomato gold, i h...   \n",
            "3  I tried 100 times adding an alternate number i...   \n",
            "4  In recent years, Zomato support has become les...   \n",
            "5  Awful customer service. Zomato does not have a...   \n",
            "6  Worst when it comes to support from them in ca...   \n",
            "7  Not at all recommended. I've been using this Z...   \n",
            "8  A very good app for food delivery. Could do mo...   \n",
            "9  I have had really mixed experience with zomato...   \n",
            "\n",
            "                                      cleaned_review  \n",
            "0  basically best approach youll ever find like e...  \n",
            "1  always late delivery change late delivery map ...  \n",
            "2  app froude zomato gold subscribed gold members...  \n",
            "3  tried times adding alternate number applicatio...  \n",
            "4  recent years zomato support become less respon...  \n",
            "5  awful customer service zomato logical protocol...  \n",
            "6  worst comes support case missing incorrect ord...  \n",
            "7  recommended ive using zomato last months zomat...  \n",
            "8  good app food delivery could adding options ad...  \n",
            "9  really mixed experience zomato sad see tie ups...  \n"
          ]
        }
      ]
    },
    {
      "cell_type": "markdown",
      "source": [
        "5️⃣ Vectorize Text"
      ],
      "metadata": {
        "id": "qAqXb7hVQTe9"
      }
    },
    {
      "cell_type": "code",
      "source": [
        "from sklearn.feature_extraction.text import TfidfVectorizer\n",
        "\n",
        "# Create TF-IDF Vectorizer\n",
        "vectorizer = TfidfVectorizer(max_features=5000)  # limit to top 5000 words\n",
        "\n",
        "# Fit & transform\n",
        "X = vectorizer.fit_transform(df['cleaned_review'])\n",
        "\n",
        "print(X.shape)  # Check shape (rows, features)\n"
      ],
      "metadata": {
        "colab": {
          "base_uri": "https://localhost:8080/"
        },
        "id": "Uy2aRr41Pshc",
        "outputId": "2153e67c-2c76-43f8-d50f-ddfe0958b1e7"
      },
      "execution_count": 21,
      "outputs": [
        {
          "output_type": "stream",
          "name": "stdout",
          "text": [
            "(453205, 5000)\n"
          ]
        }
      ]
    },
    {
      "cell_type": "markdown",
      "source": [
        "Now X is ready!"
      ],
      "metadata": {
        "id": "X_ovEVz1RXEl"
      }
    },
    {
      "cell_type": "markdown",
      "source": [
        "6️⃣ Split Data (Train/Test) and Label Encode"
      ],
      "metadata": {
        "id": "GelCVEaURgnO"
      }
    },
    {
      "cell_type": "code",
      "source": [
        "from sklearn.model_selection import train_test_split\n",
        "from sklearn.preprocessing import LabelEncoder\n",
        "\n",
        "# Encode sentiment labels\n",
        "le = LabelEncoder()\n",
        "y = le.fit_transform(df['sentiment'])\n",
        "\n",
        "# Split\n",
        "X_train, X_test, y_train, y_test = train_test_split(\n",
        "    X, y, test_size=0.2, random_state=42)\n",
        "\n",
        "print(X_train.shape, X_test.shape)\n"
      ],
      "metadata": {
        "colab": {
          "base_uri": "https://localhost:8080/"
        },
        "id": "GGTLWBNRQhgi",
        "outputId": "fda9e254-edf3-4841-cc44-7d93a67b3a7d"
      },
      "execution_count": 22,
      "outputs": [
        {
          "output_type": "stream",
          "name": "stdout",
          "text": [
            "(362564, 5000) (90641, 5000)\n"
          ]
        }
      ]
    },
    {
      "cell_type": "markdown",
      "source": [
        "7️⃣: Train the Model! 🚀"
      ],
      "metadata": {
        "id": "dKcPQ7UxR8v8"
      }
    },
    {
      "cell_type": "code",
      "source": [
        "from sklearn.linear_model import LogisticRegression\n",
        "\n",
        "# Create the model\n",
        "model = LogisticRegression(max_iter=200)\n",
        "\n",
        "# Train\n",
        "model.fit(X_train, y_train)\n",
        "\n",
        "# Predict\n",
        "y_pred = model.predict(X_test)\n",
        "\n",
        "print(\"Training done! ✅\")\n"
      ],
      "metadata": {
        "colab": {
          "base_uri": "https://localhost:8080/"
        },
        "id": "2_eYg__CRsbM",
        "outputId": "700b1fa6-3677-494c-c269-2cf0cf943f24"
      },
      "execution_count": 23,
      "outputs": [
        {
          "output_type": "stream",
          "name": "stdout",
          "text": [
            "Training done! ✅\n"
          ]
        }
      ]
    },
    {
      "cell_type": "code",
      "source": [
        "# Show first 10 predictions (as numbers)\n",
        "print(\"Encoded predictions:\", y_pred[:10])\n",
        "\n",
        "# If you want to see the actual labels (Positive/Negative/Neutral)\n",
        "print(\"Decoded predictions:\", le.inverse_transform(y_pred[:10]))\n"
      ],
      "metadata": {
        "colab": {
          "base_uri": "https://localhost:8080/"
        },
        "id": "P4sUbSFCSMOt",
        "outputId": "a2008d5a-335d-49d7-f4b5-245626d1cf2f"
      },
      "execution_count": 24,
      "outputs": [
        {
          "output_type": "stream",
          "name": "stdout",
          "text": [
            "Encoded predictions: [0 2 0 0 2 2 0 2 0 2]\n",
            "Decoded predictions: ['Negative' 'Positive' 'Negative' 'Negative' 'Positive' 'Positive'\n",
            " 'Negative' 'Positive' 'Negative' 'Positive']\n"
          ]
        }
      ]
    },
    {
      "cell_type": "markdown",
      "source": [
        "8️⃣: Evaluate the Model."
      ],
      "metadata": {
        "id": "fF494K5GSt4e"
      }
    },
    {
      "cell_type": "code",
      "source": [
        "from sklearn.metrics import accuracy_score, classification_report, confusion_matrix\n",
        "\n",
        "# Accuracy\n",
        "print(\"Accuracy:\", accuracy_score(y_test, y_pred))\n",
        "\n",
        "# Confusion Matrix\n",
        "print(\"\\nConfusion Matrix:\")\n",
        "print(confusion_matrix(y_test, y_pred))\n",
        "\n",
        "# Classification Report\n",
        "print(\"\\nClassification Report:\")\n",
        "print(classification_report(y_test, y_pred, target_names=le.classes_))\n"
      ],
      "metadata": {
        "colab": {
          "base_uri": "https://localhost:8080/"
        },
        "id": "jJTlniCQSfw6",
        "outputId": "f4d0b830-f6fc-47a6-fb5e-cf464adf458b"
      },
      "execution_count": 25,
      "outputs": [
        {
          "output_type": "stream",
          "name": "stdout",
          "text": [
            "Accuracy: 0.8972209044472148\n",
            "\n",
            "Confusion Matrix:\n",
            "[[44560    62  2282]\n",
            " [ 2253    72  1672]\n",
            " [ 2966    81 36693]]\n",
            "\n",
            "Classification Report:\n",
            "              precision    recall  f1-score   support\n",
            "\n",
            "    Negative       0.90      0.95      0.92     46904\n",
            "     Neutral       0.33      0.02      0.03      3997\n",
            "    Positive       0.90      0.92      0.91     39740\n",
            "\n",
            "    accuracy                           0.90     90641\n",
            "   macro avg       0.71      0.63      0.62     90641\n",
            "weighted avg       0.87      0.90      0.88     90641\n",
            "\n"
          ]
        }
      ]
    },
    {
      "cell_type": "code",
      "source": [
        "accuracy = accuracy_score(y_test, y_pred)\n",
        "\n",
        "# Print to check\n",
        "print(\"Logistic Regression Accuracy:\", accuracy)\n",
        "\n",
        "# Save to text file\n",
        "with open(\"logistic_regression_accuracy.txt\", \"w\") as f:\n",
        "    f.write(f\"Logistic Regression Accuracy: {accuracy:.4f}\")"
      ],
      "metadata": {
        "colab": {
          "base_uri": "https://localhost:8080/"
        },
        "id": "eQnA0-RDX094",
        "outputId": "0a63d0ee-9580-496e-ad7d-f873039b96e1"
      },
      "execution_count": 30,
      "outputs": [
        {
          "output_type": "stream",
          "name": "stdout",
          "text": [
            "Logistic Regression Accuracy: 0.8972209044472148\n"
          ]
        }
      ]
    },
    {
      "cell_type": "markdown",
      "source": [
        "9️⃣ Make Predictions\n"
      ],
      "metadata": {
        "id": "18wMvT3nvB5q"
      }
    },
    {
      "cell_type": "code",
      "source": [
        "# Predict using the trained Logistic Regression model\n",
        "y_pred = model.predict(X_test)\n",
        "\n",
        "# If you encoded labels:\n",
        "print(\"Encoded predictions:\", y_pred[:10])\n",
        "\n",
        "# If you decoded them:\n",
        "print(\"Decoded predictions:\", le.inverse_transform(y_pred[:10]))\n"
      ],
      "metadata": {
        "colab": {
          "base_uri": "https://localhost:8080/"
        },
        "id": "7FYTIYyqu4HB",
        "outputId": "6b9d4d5c-9b52-40e7-d857-bb62e377204f"
      },
      "execution_count": 34,
      "outputs": [
        {
          "output_type": "stream",
          "name": "stdout",
          "text": [
            "Encoded predictions: [0 2 0 0 2 2 0 2 0 2]\n",
            "Decoded predictions: ['Negative' 'Positive' 'Negative' 'Negative' 'Positive' 'Positive'\n",
            " 'Negative' 'Positive' 'Negative' 'Positive']\n"
          ]
        }
      ]
    },
    {
      "cell_type": "markdown",
      "source": [
        "**9️⃣ Make Predictions:** I used the trained Logistic Regression model to predict sentiment labels for the test data, storing the output for evaluation and export.\n"
      ],
      "metadata": {
        "id": "fdmlfcaavJ3K"
      }
    },
    {
      "cell_type": "markdown",
      "source": [
        "🔟 Export Final Data"
      ],
      "metadata": {
        "id": "YKIegGSQvwYd"
      }
    },
    {
      "cell_type": "code",
      "source": [
        "from sklearn.model_selection import train_test_split\n",
        "\n",
        "# Instead of just X_train, X_test:\n",
        "X_train, X_test, y_train, y_test = train_test_split(\n",
        "    X, y, test_size=0.2, random_state=42\n",
        ")\n",
        "\n",
        "# ✅ But also keep indices\n",
        "train_idx, test_idx = train_test_split(\n",
        "    df.index, test_size=0.2, random_state=42\n",
        ")"
      ],
      "metadata": {
        "id": "sOuB6QB9k8UT"
      },
      "execution_count": 36,
      "outputs": []
    },
    {
      "cell_type": "code",
      "source": [
        "import numpy as np\n",
        "\n",
        "# Add empty column\n",
        "df['predicted_sentiment'] = np.nan\n",
        "\n",
        "# Fill only test rows — decode if needed\n",
        "df.loc[test_idx, 'predicted_sentiment'] = le.inverse_transform(y_pred)\n",
        "\n",
        "# Save\n",
        "df.to_csv(\"final_reviews_with_sentiment.csv\", index=False)\n",
        "\n",
        "print(\"Saved with test predictions! ✅\")"
      ],
      "metadata": {
        "colab": {
          "base_uri": "https://localhost:8080/"
        },
        "id": "K5bgaECMvzMn",
        "outputId": "833a1376-f84c-4de9-fb43-572be4985743"
      },
      "execution_count": 37,
      "outputs": [
        {
          "output_type": "stream",
          "name": "stdout",
          "text": [
            "Saved with test predictions! ✅\n"
          ]
        }
      ]
    },
    {
      "cell_type": "markdown",
      "source": [
        "## ✅ Conclusion\n",
        "\n",
        "In this notebook, I combined Zomato & Swiggy reviews, cleaned the text, and built a simple logistic regression sentiment classifier.  \n",
        "I achieved an accuracy of about 89%, which shows the model can reliably classify reviews into Positive, Negative, and Neutral sentiments.  \n",
        "The output dataset with predicted sentiments is saved and ready for further visualization in dashboards (Power BI, Tableau) or deeper business insights.\n"
      ],
      "metadata": {
        "id": "UO2HlotnxWUv"
      }
    }
  ]
}